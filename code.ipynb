{
  "cells": [
    {
      "cell_type": "code",
      "execution_count": null,
      "metadata": {
        "id": "Kao63VE5dTCi"
      },
      "outputs": [],
      "source": [
        "import numpy as np\n",
        "import tensorflow as tf\n",
        "from tensorflow import keras \n",
        "from sklearn.model_selection import train_test_split\n",
        "from tensorflow.keras.optimizers import Adam\n",
        "from tensorflow.keras import callbacks\n",
        "\n",
        "from sklearn.metrics import accuracy_score\n",
        "from sklearn.metrics import classification_report\n",
        "import matplotlib.pyplot as plt\n",
        "\n",
        "from sklearn.metrics import confusion_matrix\n",
        "\n",
        "import pandas as pd"
      ]
    },
    {
      "cell_type": "code",
      "execution_count": null,
      "metadata": {
        "colab": {
          "base_uri": "https://localhost:8080/"
        },
        "id": "tsF6q1vqeb0C",
        "outputId": "f44344ad-dd66-43f5-fb46-98ba23c5d5a2"
      },
      "outputs": [
        {
          "name": "stdout",
          "output_type": "stream",
          "text": [
            "Mounted at /content/drive\n"
          ]
        }
      ],
      "source": [
        "from google.colab import drive\n",
        "drive.mount('/content/drive')"
      ]
    },
    {
      "cell_type": "code",
      "execution_count": null,
      "metadata": {
        "id": "a94h-o31qg08"
      },
      "outputs": [],
      "source": [
        "X_train=np.load('/content/drive/MyDrive/DM/task7_X_train.npy',mmap_mode='r') #4138x224x224x3\n",
        "y_train=np.load('/content/drive/MyDrive/DM/task7_y_train.npy',mmap_mode='r') #4138x4  [1,0,0,0]\n",
        "X_test=np.load('/content/drive/MyDrive/DM/task7_X_test.npy',mmap_mode='r') #498x224x224x3\n",
        "y_test=np.load('/content/drive/MyDrive/DM/task7_y_test.npy',mmap_mode='r') #498x4\n"
      ]
    },
    {
      "cell_type": "markdown",
      "metadata": {
        "id": "W6-Uux71cslo"
      },
      "source": [
        "**MLP**"
      ]
    },
    {
      "cell_type": "code",
      "execution_count": null,
      "metadata": {
        "id": "9-03ZKtDcutF"
      },
      "outputs": [],
      "source": [
        "from sklearn.neural_network import MLPClassifier\n",
        "from sklearn.preprocessing import StandardScaler"
      ]
    },
    {
      "cell_type": "code",
      "execution_count": null,
      "metadata": {
        "colab": {
          "base_uri": "https://localhost:8080/"
        },
        "id": "u7dCQ5fsgvyH",
        "outputId": "935eef29-377e-4b38-fac7-1bc2d72067a7"
      },
      "outputs": [
        {
          "name": "stdout",
          "output_type": "stream",
          "text": [
            "(4138, 224, 224, 3)\n"
          ]
        }
      ],
      "source": [
        "print(X_train.shape)"
      ]
    },
    {
      "cell_type": "code",
      "execution_count": null,
      "metadata": {
        "id": "cFK98ELhfkaV"
      },
      "outputs": [],
      "source": [
        "sc=StandardScaler()\n",
        "nsamples, nx, ny, nz = X_train.shape\n",
        "d2_train_dataset = X_train.reshape((nsamples,nx*ny*nz))\n",
        "\n",
        "nsamples, nx, ny, nz = X_test.shape\n",
        "d2_test_dataset = X_test.reshape((nsamples,nx*ny*nz))\n",
        "\n",
        "scaler = sc.fit(d2_train_dataset)\n"
      ]
    },
    {
      "cell_type": "code",
      "execution_count": null,
      "metadata": {
        "id": "tRPavaHc3wJF"
      },
      "outputs": [],
      "source": [
        "trainX_scaled = scaler.transform(d2_train_dataset)\n",
        "testX_scaled = scaler.transform(d2_test_dataset)"
      ]
    },
    {
      "cell_type": "code",
      "execution_count": null,
      "metadata": {
        "id": "MhQ65B3YMgWe"
      },
      "outputs": [],
      "source": [
        "from sklearn.neural_network import MLPClassifier\n",
        "from sklearn.model_selection import GridSearchCV\n",
        "from sklearn.datasets import load_digits\n",
        "from sklearn.model_selection import train_test_split\n",
        "\n",
        "mlp = MLPClassifier()\n",
        "\n",
        "param_grid = {\n",
        "    'hidden_layer_sizes': [(50,), (100,), (150,)],\n",
        "    'activation': ['relu', 'tanh'],\n",
        "    'solver': ['adam', 'sgd'],\n",
        "    'alpha': [0.0001, 0.001, 0.01],\n",
        "    'learning_rate': ['constant', 'adaptive']\n",
        "}\n",
        "\n",
        "grid_search = GridSearchCV(mlp, param_grid, cv=5, n_jobs=-1)\n",
        "grid_search.fit(trainX_scaled, y_train)\n",
        "\n",
        "print(\"Best parameters: \", grid_search.best_params_)\n",
        "print(\"Best score: \", grid_search.best_score_)"
      ]
    },
    {
      "cell_type": "code",
      "execution_count": null,
      "metadata": {
        "colab": {
          "base_uri": "https://localhost:8080/",
          "height": 109
        },
        "id": "_dpMSBgTg-9g",
        "outputId": "af4070fc-a8b2-480e-cfc1-5bbc7a484978"
      },
      "outputs": [],
      "source": [
        "mlp_clf = MLPClassifier(hidden_layer_sizes=(150,100,50),\n",
        "                        max_iter = 300,activation = 'relu',\n",
        "                        solver = 'sgd')\n",
        "\n",
        "mlp_clf.fit(trainX_scaled, y_train)"
      ]
    },
    {
      "cell_type": "code",
      "execution_count": null,
      "metadata": {
        "colab": {
          "base_uri": "https://localhost:8080/"
        },
        "id": "2-AzOazQh7u_",
        "outputId": "adc75481-aa08-43b5-e9a2-39c575bb5647"
      },
      "outputs": [
        {
          "name": "stdout",
          "output_type": "stream",
          "text": [
            "Accuracy: 0.61\n"
          ]
        }
      ],
      "source": [
        "y_pred = mlp_clf.predict(testX_scaled)\n",
        "\n",
        "print('Accuracy: {:.2f}'.format(accuracy_score(y_test, y_pred)))"
      ]
    },
    {
      "cell_type": "code",
      "execution_count": null,
      "metadata": {
        "colab": {
          "base_uri": "https://localhost:8080/",
          "height": 736
        },
        "id": "ny8wpOcsiMGb",
        "outputId": "94cb8db8-acf4-41eb-b27f-decc1911356d"
      },
      "outputs": [
        {
          "name": "stderr",
          "output_type": "stream",
          "text": [
            "/usr/local/lib/python3.9/dist-packages/sklearn/metrics/_classification.py:1344: UndefinedMetricWarning: Precision and F-score are ill-defined and being set to 0.0 in samples with no predicted labels. Use `zero_division` parameter to control this behavior.\n",
            "  _warn_prf(average, modifier, msg_start, len(result))\n"
          ]
        },
        {
          "name": "stdout",
          "output_type": "stream",
          "text": [
            "              precision    recall  f1-score   support\n",
            "\n",
            "           0       0.53      0.33      0.41        94\n",
            "           1       0.38      0.28      0.32        93\n",
            "           2       0.23      0.11      0.14       104\n",
            "           3       0.53      0.60      0.56       207\n",
            "\n",
            "   micro avg       0.47      0.39      0.43       498\n",
            "   macro avg       0.42      0.33      0.36       498\n",
            "weighted avg       0.44      0.39      0.40       498\n",
            " samples avg       0.37      0.39      0.38       498\n",
            "\n"
          ]
        },
        {
          "data": {
            "image/png": "[encoded data removed]",
            "text/plain": [
              "<Figure size 640x480 with 1 Axes>"
            ]
          },
          "metadata": {},
          "output_type": "display_data"
        }
      ],
      "source": [
        "print(classification_report(y_test, y_pred))\n",
        "\n",
        "plt.plot(mlp_clf.loss_curve_)\n",
        "plt.title(\"Loss Curve\", fontsize=14)\n",
        "plt.xlabel('Iterations')\n",
        "plt.ylabel('Cost')\n",
        "plt.show()"
      ]
    },
    {
      "cell_type": "code",
      "execution_count": null,
      "metadata": {
        "id": "4xOfOtzGmXXs"
      },
      "outputs": [],
      "source": []
    },
    {
      "cell_type": "markdown",
      "metadata": {
        "id": "CIG-J585pbxf"
      },
      "source": [
        "**SVM**"
      ]
    },
    {
      "cell_type": "code",
      "execution_count": null,
      "metadata": {
        "id": "KjgFov1HyLkD"
      },
      "outputs": [],
      "source": [
        "import numpy as np\n",
        "import tensorflow as tf\n",
        "from tensorflow import keras \n",
        "from sklearn.model_selection import train_test_split\n",
        "from tensorflow.keras.optimizers import Adam\n",
        "from tensorflow.keras import callbacks\n",
        "\n",
        "import numpy as np\n",
        "import pandas as pd\n",
        "from tensorflow import keras  \n",
        "import numpy as np"
      ]
    },
    {
      "cell_type": "code",
      "execution_count": null,
      "metadata": {
        "id": "8lk9zxciyLhW"
      },
      "outputs": [],
      "source": [
        "from google.colab import drive\n",
        "drive.mount('/content/drive')"
      ]
    },
    {
      "cell_type": "code",
      "execution_count": null,
      "metadata": {
        "id": "pEB0stZPyLep"
      },
      "outputs": [],
      "source": [
        "X_train=np.load('/content/drive/MyDrive/DM/task7_X_train.npy',mmap_mode='r') #4138x224x224x3\n",
        "y_train=np.load('/content/drive/MyDrive/DM/task7_y_train.npy',mmap_mode='r') #4138x4  [1,0,0,0]\n",
        "X_test=np.load('/content/drive/MyDrive/DM/task7_X_test.npy',mmap_mode='r') #498x224x224x3\n",
        "y_test=np.load('/content/drive/MyDrive/DM/task7_y_test.npy',mmap_mode='r') #498x4"
      ]
    },
    {
      "cell_type": "code",
      "execution_count": null,
      "metadata": {
        "id": "Viu20e9MyLbA"
      },
      "outputs": [],
      "source": [
        "from sklearn.utils import shuffle\n",
        "\n",
        "# Shuffle the training data\n",
        "X_train, y_train = shuffle(X_train, y_train, random_state=42)\n",
        "\n",
        "# Shuffle the test data\n",
        "X_test, y_test = shuffle(X_test, y_test, random_state=42)\n"
      ]
    },
    {
      "cell_type": "code",
      "execution_count": null,
      "metadata": {
        "id": "Ex985TrkyLXu"
      },
      "outputs": [],
      "source": [
        "X_train=X_train[:1000]\n",
        "X_test=X_test\n",
        "y_train=y_train[:1000]\n",
        "y_test=y_test"
      ]
    },
    {
      "cell_type": "code",
      "execution_count": null,
      "metadata": {
        "colab": {
          "base_uri": "https://localhost:8080/"
        },
        "id": "cfJdTMhlyLUs",
        "outputId": "b7c388ea-12c8-4e5a-8837-d963071dcb65"
      },
      "outputs": [
        {
          "name": "stdout",
          "output_type": "stream",
          "text": [
            "(1250, 224, 224, 3) (1250, 4) (200, 224, 224, 3) (200, 4)\n"
          ]
        }
      ],
      "source": [
        "print(X_train.shape,y_train.shape,X_test.shape,y_test.shape)"
      ]
    },
    {
      "cell_type": "code",
      "execution_count": null,
      "metadata": {
        "id": "zh7oqJcEyIKC"
      },
      "outputs": [],
      "source": [
        "l1=[]\n",
        "for i in y_train:\n",
        "  if(i[0]==1):\n",
        "    l1.append(0)\n",
        "  if(i[1]==1):\n",
        "    l1.append(1)\n",
        "  if(i[2]==1):\n",
        "    l1.append(2)\n",
        "  if(i[3]==1):\n",
        "    l1.append(3)\n",
        "\n",
        "y_train=l1\n",
        "l1=[]"
      ]
    },
    {
      "cell_type": "code",
      "execution_count": null,
      "metadata": {
        "id": "4JcvffaNyIHA"
      },
      "outputs": [],
      "source": [
        "l2=[]\n",
        "for i in y_test:\n",
        "  if(i[0]==1):\n",
        "    l2.append(0)\n",
        "  if(i[1]==1):\n",
        "    l2.append(1)\n",
        "  if(i[2]==1):\n",
        "    l2.append(2)\n",
        "  if(i[3]==1):\n",
        "    l2.append(3)\n",
        "\n",
        "y_test=l2\n",
        "l2=[]"
      ]
    },
    {
      "cell_type": "code",
      "execution_count": null,
      "metadata": {
        "colab": {
          "base_uri": "https://localhost:8080/",
          "height": 75
        },
        "id": "Eh1fKrB-yID4",
        "outputId": "580edd0f-db80-4269-e2b0-7a5f888b0aa3"
      },
      "outputs": [
        {
          "data": {
            "text/html": [
              "<style>#sk-container-id-1 {color: black;background-color: white;}#sk-container-id-1 pre{padding: 0;}#sk-container-id-1 div.sk-toggleable {background-color: white;}#sk-container-id-1 label.sk-toggleable__label {cursor: pointer;display: block;width: 100%;margin-bottom: 0;padding: 0.3em;box-sizing: border-box;text-align: center;}#sk-container-id-1 label.sk-toggleable__label-arrow:before {content: \"▸\";float: left;margin-right: 0.25em;color: #696969;}#sk-container-id-1 label.sk-toggleable__label-arrow:hover:before {color: black;}#sk-container-id-1 div.sk-estimator:hover label.sk-toggleable__label-arrow:before {color: black;}#sk-container-id-1 div.sk-toggleable__content {max-height: 0;max-width: 0;overflow: hidden;text-align: left;background-color: #f0f8ff;}#sk-container-id-1 div.sk-toggleable__content pre {margin: 0.2em;color: black;border-radius: 0.25em;background-color: #f0f8ff;}#sk-container-id-1 input.sk-toggleable__control:checked~div.sk-toggleable__content {max-height: 200px;max-width: 100%;overflow: auto;}#sk-container-id-1 input.sk-toggleable__control:checked~label.sk-toggleable__label-arrow:before {content: \"▾\";}#sk-container-id-1 div.sk-estimator input.sk-toggleable__control:checked~label.sk-toggleable__label {background-color: #d4ebff;}#sk-container-id-1 div.sk-label input.sk-toggleable__control:checked~label.sk-toggleable__label {background-color: #d4ebff;}#sk-container-id-1 input.sk-hidden--visually {border: 0;clip: rect(1px 1px 1px 1px);clip: rect(1px, 1px, 1px, 1px);height: 1px;margin: -1px;overflow: hidden;padding: 0;position: absolute;width: 1px;}#sk-container-id-1 div.sk-estimator {font-family: monospace;background-color: #f0f8ff;border: 1px dotted black;border-radius: 0.25em;box-sizing: border-box;margin-bottom: 0.5em;}#sk-container-id-1 div.sk-estimator:hover {background-color: #d4ebff;}#sk-container-id-1 div.sk-parallel-item::after {content: \"\";width: 100%;border-bottom: 1px solid gray;flex-grow: 1;}#sk-container-id-1 div.sk-label:hover label.sk-toggleable__label {background-color: #d4ebff;}#sk-container-id-1 div.sk-serial::before {content: \"\";position: absolute;border-left: 1px solid gray;box-sizing: border-box;top: 0;bottom: 0;left: 50%;z-index: 0;}#sk-container-id-1 div.sk-serial {display: flex;flex-direction: column;align-items: center;background-color: white;padding-right: 0.2em;padding-left: 0.2em;position: relative;}#sk-container-id-1 div.sk-item {position: relative;z-index: 1;}#sk-container-id-1 div.sk-parallel {display: flex;align-items: stretch;justify-content: center;background-color: white;position: relative;}#sk-container-id-1 div.sk-item::before, #sk-container-id-1 div.sk-parallel-item::before {content: \"\";position: absolute;border-left: 1px solid gray;box-sizing: border-box;top: 0;bottom: 0;left: 50%;z-index: -1;}#sk-container-id-1 div.sk-parallel-item {display: flex;flex-direction: column;z-index: 1;position: relative;background-color: white;}#sk-container-id-1 div.sk-parallel-item:first-child::after {align-self: flex-end;width: 50%;}#sk-container-id-1 div.sk-parallel-item:last-child::after {align-self: flex-start;width: 50%;}#sk-container-id-1 div.sk-parallel-item:only-child::after {width: 0;}#sk-container-id-1 div.sk-dashed-wrapped {border: 1px dashed gray;margin: 0 0.4em 0.5em 0.4em;box-sizing: border-box;padding-bottom: 0.4em;background-color: white;}#sk-container-id-1 div.sk-label label {font-family: monospace;font-weight: bold;display: inline-block;line-height: 1.2em;}#sk-container-id-1 div.sk-label-container {text-align: center;}#sk-container-id-1 div.sk-container {/* jupyter's `normalize.less` sets `[hidden] { display: none; }` but bootstrap.min.css set `[hidden] { display: none !important; }` so we also need the `!important` here to be able to override the default hidden behavior on the sphinx rendered scikit-learn.org. See: https://github.com/scikit-learn/scikit-learn/issues/21755 */display: inline-block !important;position: relative;}#sk-container-id-1 div.sk-text-repr-fallback {display: none;}</style><div id=\"sk-container-id-1\" class=\"sk-top-container\"><div class=\"sk-text-repr-fallback\"><pre>SVC(C=1, kernel=&#x27;linear&#x27;)</pre><b>In a Jupyter environment, please rerun this cell to show the HTML representation or trust the notebook. <br />On GitHub, the HTML representation is unable to render, please try loading this page with nbviewer.org.</b></div><div class=\"sk-container\" hidden><div class=\"sk-item\"><div class=\"sk-estimator sk-toggleable\"><input class=\"sk-toggleable__control sk-hidden--visually\" id=\"sk-estimator-id-1\" type=\"checkbox\" checked><label for=\"sk-estimator-id-1\" class=\"sk-toggleable__label sk-toggleable__label-arrow\">SVC</label><div class=\"sk-toggleable__content\"><pre>SVC(C=1, kernel=&#x27;linear&#x27;)</pre></div></div></div></div></div>"
            ],
            "text/plain": [
              "SVC(C=1, kernel='linear')"
            ]
          },
          "execution_count": 10,
          "metadata": {},
          "output_type": "execute_result"
        }
      ],
      "source": [
        "from sklearn import datasets\n",
        "from sklearn.model_selection import train_test_split\n",
        "from sklearn.svm import SVC\n",
        "\n",
        "\n",
        "from sklearn.preprocessing import StandardScaler\n",
        "sc=StandardScaler()\n",
        "nsamples, nx, ny, nz = X_train.shape\n",
        "d2_train_dataset = X_train.reshape((nsamples,nx*ny*nz))\n",
        "\n",
        "nsamples, nx, ny, nz = X_test.shape\n",
        "d2_test_dataset = X_test.reshape((nsamples,nx*ny*nz))\n",
        "\n",
        "scaler = sc.fit(d2_train_dataset)\n",
        "X_train = scaler.transform(d2_train_dataset)\n",
        "X_test = scaler.transform(d2_test_dataset)\n",
        "\n",
        "\n",
        "# Create the SVM classifier with a linear kernel and fit the data\n",
        "svm_classifier = SVC(kernel='linear', C=1, decision_function_shape='ovr')\n",
        "svm_classifier.fit(X_train, y_train)\n",
        "\n",
        "\n"
      ]
    },
    {
      "cell_type": "code",
      "execution_count": null,
      "metadata": {
        "colab": {
          "base_uri": "https://localhost:8080/"
        },
        "id": "_TG6jGovyiFp",
        "outputId": "d92e50a5-efcc-4f3a-e99c-f39481f97492"
      },
      "outputs": [
        {
          "name": "stdout",
          "output_type": "stream",
          "text": [
            "Accuracy: 0.36\n"
          ]
        }
      ],
      "source": [
        "y_pred = svm_classifier.predict(X_test)\n",
        "\n",
        "accuracy = svm_classifier.score(X_test, y_test)\n",
        "print(\"Accuracy:\", accuracy)"
      ]
    },
    {
      "cell_type": "code",
      "execution_count": null,
      "metadata": {
        "colab": {
          "base_uri": "https://localhost:8080/"
        },
        "id": "fOrcUn2ByiDD",
        "outputId": "2e6a3375-5604-46e3-aea1-365b868e2d6d"
      },
      "outputs": [
        {
          "name": "stdout",
          "output_type": "stream",
          "text": [
            "              precision    recall  f1-score   support\n",
            "\n",
            "           0       0.56      0.40      0.47        50\n",
            "           1       0.21      0.33      0.26        36\n",
            "           2       0.20      0.18      0.19        34\n",
            "           3       0.44      0.42      0.43        80\n",
            "\n",
            "    accuracy                           0.36       200\n",
            "   macro avg       0.35      0.33      0.34       200\n",
            "weighted avg       0.39      0.36      0.37       200\n",
            "\n"
          ]
        }
      ],
      "source": [
        "print(classification_report(y_test, y_pred))"
      ]
    },
    {
      "cell_type": "markdown",
      "metadata": {
        "id": "9ZzxshCOQ30z"
      },
      "source": [
        "**CNN**"
      ]
    },
    {
      "cell_type": "markdown",
      "metadata": {
        "id": "RDxX52qfa2fe"
      },
      "source": [
        "**i) Damage Level**"
      ]
    },
    {
      "cell_type": "code",
      "execution_count": null,
      "metadata": {
        "id": "ZUL3euFfeG56"
      },
      "outputs": [],
      "source": [
        "X_train=np.load('/content/drive/MyDrive/DM/task7_X_train.npy',mmap_mode='r') #4138x224x224x3\n",
        "y_train=np.load('/content/drive/MyDrive/DM/task7_y_train.npy',mmap_mode='r') #4138x4  [1,0,0,0]\n",
        "X_test=np.load('/content/drive/MyDrive/DM/task7_X_test.npy',mmap_mode='r') #498x224x224x3\n",
        "y_test=np.load('/content/drive/MyDrive/DM/task7_y_test.npy',mmap_mode='r') #498x4\n"
      ]
    },
    {
      "cell_type": "code",
      "execution_count": null,
      "metadata": {
        "id": "XLcbgF7qdTCm"
      },
      "outputs": [],
      "source": [
        "X_train, X_val, y_train, y_val = train_test_split(X_train, y_train, test_size=0.25, random_state=57)\n",
        "X_val=X_val/255.0\n",
        "y_val=y_val/255.0"
      ]
    },
    {
      "cell_type": "code",
      "execution_count": null,
      "metadata": {
        "id": "RlQkDLMDdTCn"
      },
      "outputs": [],
      "source": [
        "model1 = tf.keras.Sequential([\n",
        "    tf.keras.layers.Conv2D(filters=16, kernel_size=(5,5),padding='same', activation='relu', kernel_initializer='normal',input_shape=(224, 224, 3)),\n",
        "    tf.keras.layers.Conv2D(filters=32, kernel_size=(5,5),padding='same', activation='relu', kernel_initializer='normal'),\n",
        "    tf.keras.layers.MaxPool2D(pool_size=(2,2),strides=2,padding=\"valid\"),\n",
        "    tf.keras.layers.BatchNormalization(axis=-1),\n",
        "\n",
        "    tf.keras.layers.Conv2D(filters=64, kernel_size=(5,5),padding='same', activation='relu', kernel_initializer='normal'),\n",
        "    tf.keras.layers.Conv2D(filters=128, kernel_size=(5,5),padding='same', activation='relu', kernel_initializer='normal'),\n",
        "    tf.keras.layers.Conv2D(filters=256, kernel_size=(5,5),padding='same', activation='relu', kernel_initializer='normal'),\n",
        "    tf.keras.layers.MaxPool2D(pool_size=(2,2),strides=2,padding=\"valid\"),\n",
        "    tf.keras.layers.BatchNormalization(axis=-1),\n",
        "\n",
        "    tf.keras.layers.Flatten(),\n",
        "    tf.keras.layers.Dense(512,activation='relu', kernel_initializer='normal'),\n",
        "    tf.keras.layers.BatchNormalization() ,\n",
        "    tf.keras.layers.Dropout(rate=0.5),\n",
        "\n",
        "    tf.keras.layers.Dense(4,activation='softmax')\n",
        "])"
      ]
    },
    {
      "cell_type": "code",
      "execution_count": null,
      "metadata": {
        "id": "t2RchdmodTCo"
      },
      "outputs": [],
      "source": [
        "import tensorflow as tf\n",
        "lr_schedule = tf.keras.optimizers.schedules.ExponentialDecay(\n",
        "    initial_learning_rate=0.01,\n",
        "    decay_steps=10000,\n",
        "    decay_rate=0.9)\n",
        "optimizer1 = tf.keras.optimizers.Adam(learning_rate=lr_schedule)\n",
        "\n",
        "model1.compile(loss='categorical_crossentropy',optimizer=optimizer1,metrics=['accuracy'])"
      ]
    },
    {
      "cell_type": "code",
      "execution_count": null,
      "metadata": {
        "id": "-pNVx1-JdTCo"
      },
      "outputs": [],
      "source": [
        "aug = tf.keras.preprocessing.image.ImageDataGenerator(\n",
        "          rescale=1./255,\n",
        "          rotation_range=40,\n",
        "          width_shift_range=0.2,height_shift_range=0.2,\n",
        "          zoom_range=0.3,shear_range=0.2,\n",
        "          horizontal_flip=True,vertical_flip=True,\n",
        "          fill_mode='nearest'\n",
        "          )"
      ]
    },
    {
      "cell_type": "code",
      "execution_count": null,
      "metadata": {
        "id": "NqhvGsS8dTCp"
      },
      "outputs": [],
      "source": [
        "earlystopping = callbacks.EarlyStopping(monitor=\"val_loss\",mode=\"min\",patience=5,restore_best_weights=True)"
      ]
    },
    {
      "cell_type": "code",
      "execution_count": null,
      "metadata": {
        "colab": {
          "base_uri": "https://localhost:8080/"
        },
        "id": "rSl3w0yudTCp",
        "outputId": "1d0fcf2f-96b9-4adb-f8bf-6bad3d507a7e"
      },
      "outputs": [],
      "source": [
        "hist1 = model1.fit(aug.flow(X_train, y_train), validation_data=(X_val,y_val), epochs=3, shuffle=True, callbacks=[earlystopping])"
      ]
    },
    {
      "cell_type": "code",
      "execution_count": null,
      "metadata": {
        "id": "eBqTqwY1dTCq"
      },
      "outputs": [],
      "source": [
        "y_pred = model1.predict(X_test)\n",
        "\n",
        "conf=confusion_matrix(y_test,y_pred)"
      ]
    },
    {
      "cell_type": "code",
      "execution_count": null,
      "metadata": {
        "id": "43uMRpDybWAR"
      },
      "outputs": [],
      "source": [
        "print(\"\\nConfusion Matrix\")\n",
        "print(conf)\n",
        "\n",
        "tp1=conf[0][0]\n",
        "fp1=conf[0][1]\n",
        "fn1=conf[1][0]\n",
        "tn1=conf[1][1]\n",
        "\n",
        "acc1=(tp1+tn1)/(tp1+fp1+fn1+tn1)\n",
        "prec1=tp1/(tp1+fp1)\n",
        "rec1=tp1/(tp1+fn1)\n",
        "fsc1=(2*tp1/((2*tp1)+fp1+fn1))\n",
        "\n",
        "print(\"\\nAccuracy\")\n",
        "print(acc1)\n",
        "print(\"\\nPrecision\")\n",
        "print(prec1)\n",
        "print(\"\\nRecall\")\n",
        "print(rec1)\n",
        "print(\"\\nF1 Score\")\n",
        "print(fsc1)"
      ]
    },
    {
      "cell_type": "markdown",
      "metadata": {
        "id": "nrIeTJp0dUI4"
      },
      "source": [
        "**ii) Damage State**"
      ]
    },
    {
      "cell_type": "code",
      "execution_count": null,
      "metadata": {
        "id": "47YKTkovfcKa"
      },
      "outputs": [],
      "source": [
        "X_train=np.load('/content/drive/MyDrive/DM/task2_X_train.npy',mmap_mode='r') #4138x224x224x3\n",
        "y_train=np.load('/content/drive/MyDrive/DM/task2_y_train.npy',mmap_mode='r') #4138x4  [1,0,0,0]\n",
        "X_test=np.load('/content/drive/MyDrive/DM/task2_X_test.npy',mmap_mode='r') #498x224x224x3\n",
        "y_test=np.load('/content/drive/MyDrive/DM/task2_y_test.npy',mmap_mode='r') #498x4"
      ]
    },
    {
      "cell_type": "code",
      "execution_count": null,
      "metadata": {
        "id": "SfhrKYv2fcKc"
      },
      "outputs": [],
      "source": [
        "X_train, X_val, y_train, y_val = train_test_split(X_train, y_train, test_size=0.25, random_state=57)\n",
        "X_val=X_val/255.0\n",
        "y_val=y_val/255.0"
      ]
    },
    {
      "cell_type": "code",
      "execution_count": null,
      "metadata": {
        "id": "Y6ujYeL5fcKd"
      },
      "outputs": [],
      "source": [
        "model2 = tf.keras.Sequential([\n",
        "    tf.keras.layers.Conv2D(filters=16, kernel_size=(5,5),padding='same', activation='relu', kernel_initializer='normal',input_shape=(224, 224, 3)),\n",
        "    tf.keras.layers.Conv2D(filters=32, kernel_size=(5,5),padding='same', activation='relu', kernel_initializer='normal'),\n",
        "    tf.keras.layers.MaxPool2D(pool_size=(2,2),strides=2,padding=\"valid\"),\n",
        "    tf.keras.layers.BatchNormalization(axis=-1),\n",
        "\n",
        "    tf.keras.layers.Conv2D(filters=64, kernel_size=(5,5),padding='same', activation='relu', kernel_initializer='normal'),\n",
        "    tf.keras.layers.Conv2D(filters=128, kernel_size=(5,5),padding='same', activation='relu', kernel_initializer='normal'),\n",
        "    tf.keras.layers.Conv2D(filters=256, kernel_size=(5,5),padding='same', activation='relu', kernel_initializer='normal'),\n",
        "    tf.keras.layers.MaxPool2D(pool_size=(2,2),strides=2,padding=\"valid\"),\n",
        "    tf.keras.layers.BatchNormalization(axis=-1),\n",
        "\n",
        "    tf.keras.layers.Flatten(),\n",
        "    tf.keras.layers.Dense(512,activation='relu', kernel_initializer='normal'),\n",
        "    tf.keras.layers.BatchNormalization() ,\n",
        "    tf.keras.layers.Dropout(rate=0.5),\n",
        "\n",
        "    tf.keras.layers.Dense(4,activation='softmax')\n",
        "])"
      ]
    },
    {
      "cell_type": "code",
      "execution_count": null,
      "metadata": {
        "id": "CD8dBJ1sfcKf"
      },
      "outputs": [],
      "source": [
        "import tensorflow as tf\n",
        "lr_schedule = tf.keras.optimizers.schedules.ExponentialDecay(\n",
        "    initial_learning_rate=0.01,\n",
        "    decay_steps=10000,\n",
        "    decay_rate=0.9)\n",
        "optimizer2 = tf.keras.optimizers.Adam(learning_rate=lr_schedule)\n",
        "\n",
        "model2.compile(loss='categorical_crossentropy',optimizer=optimizer2,metrics=['accuracy'])\n"
      ]
    },
    {
      "cell_type": "code",
      "execution_count": null,
      "metadata": {
        "id": "Am8i7fp_fcKg"
      },
      "outputs": [],
      "source": [
        "aug = tf.keras.preprocessing.image.ImageDataGenerator(\n",
        "          rescale=1./255,\n",
        "          rotation_range=40,\n",
        "          width_shift_range=0.2,height_shift_range=0.2,\n",
        "          zoom_range=0.3,shear_range=0.2,\n",
        "          horizontal_flip=True,vertical_flip=True,\n",
        "          fill_mode='nearest'\n",
        "          )"
      ]
    },
    {
      "cell_type": "code",
      "execution_count": null,
      "metadata": {
        "id": "9VvNeLAxfcKh"
      },
      "outputs": [],
      "source": [
        "earlystopping = callbacks.EarlyStopping(monitor=\"val_loss\",mode=\"min\",patience=5,restore_best_weights=True)"
      ]
    },
    {
      "cell_type": "code",
      "execution_count": null,
      "metadata": {
        "colab": {
          "base_uri": "https://localhost:8080/"
        },
        "id": "bKJcN6E_fcKi",
        "outputId": "16107b6d-86f2-4441-8744-10cd8ed0ed95"
      },
      "outputs": [
        {
          "name": "stdout",
          "output_type": "stream",
          "text": [
            "Epoch 1/100\n"
          ]
        }
      ],
      "source": [
        "hist2 = model2.fit(aug.flow(X_train, y_train), validation_data=(X_val,y_val), epochs=100, shuffle=True, callbacks=[earlystopping])"
      ]
    },
    {
      "cell_type": "code",
      "execution_count": null,
      "metadata": {
        "id": "A7OCpnPUfcKk"
      },
      "outputs": [],
      "source": [
        "y_pred = model2.predict(X_test)\n",
        "\n",
        "conf=confusion_matrix(y_test,y_pred)"
      ]
    },
    {
      "cell_type": "code",
      "execution_count": null,
      "metadata": {
        "id": "dfqQ54-hfcKl"
      },
      "outputs": [],
      "source": [
        "print(\"\\nConfusion Matrix\")\n",
        "print(conf)\n",
        "\n",
        "tp2=conf[0][0]\n",
        "fp2=conf[0][1]\n",
        "fn2=conf[1][0]\n",
        "tn2=conf[1][1]\n",
        "\n",
        "acc2=(tp2+tn2)/(tp2+fp2+fn2+tn2)\n",
        "prec2=tp2/(tp2+fp2)\n",
        "rec2=tp2/(tp2+fn2)\n",
        "fsc2=(2*tp2/((2*tp2)+fp2+fn2))\n",
        "\n",
        "print(\"\\nAccuracy\")\n",
        "print(acc2)\n",
        "print(\"\\nPrecision\")\n",
        "print(prec2)\n",
        "print(\"\\nRecall\")\n",
        "print(rec2)\n",
        "print(\"\\nF1 Score\")\n",
        "print(fsc2)"
      ]
    },
    {
      "cell_type": "markdown",
      "metadata": {
        "id": "06fkac6Hbdzs"
      },
      "source": [
        "**iii) Collapse Mode**"
      ]
    },
    {
      "cell_type": "code",
      "execution_count": null,
      "metadata": {
        "id": "O9wbXMVSfdn9"
      },
      "outputs": [],
      "source": [
        "X_train=np.load('/content/drive/MyDrive/DM/task5_X_train.npy',mmap_mode='r') #4138x224x224x3\n",
        "y_train=np.load('/content/drive/MyDrive/DM/task5_y_train.npy',mmap_mode='r') #4138x4  [1,0,0,0]\n",
        "X_test=np.load('/content/drive/MyDrive/DM/task5_X_test.npy',mmap_mode='r') #498x224x224x3\n",
        "y_test=np.load('/content/drive/MyDrive/DM/task5_y_test.npy',mmap_mode='r') #498x4"
      ]
    },
    {
      "cell_type": "code",
      "execution_count": null,
      "metadata": {
        "id": "u63aIId_fdn_"
      },
      "outputs": [],
      "source": [
        "X_train, X_val, y_train, y_val = train_test_split(X_train, y_train, test_size=0.25, random_state=57)\n",
        "X_val=X_val/255.0\n",
        "y_val=y_val/255.0"
      ]
    },
    {
      "cell_type": "code",
      "execution_count": null,
      "metadata": {
        "id": "YiWbKzmffdn_"
      },
      "outputs": [],
      "source": [
        "model3 = tf.keras.Sequential([\n",
        "    tf.keras.layers.Conv2D(filters=16, kernel_size=(5,5),padding='same', activation='relu', kernel_initializer='normal',input_shape=(224, 224, 3)),\n",
        "    tf.keras.layers.Conv2D(filters=32, kernel_size=(5,5),padding='same', activation='relu', kernel_initializer='normal'),\n",
        "    tf.keras.layers.MaxPool2D(pool_size=(2,2),strides=2,padding=\"valid\"),\n",
        "    tf.keras.layers.BatchNormalization(axis=-1),\n",
        "\n",
        "    tf.keras.layers.Conv2D(filters=64, kernel_size=(5,5),padding='same', activation='relu', kernel_initializer='normal'),\n",
        "    tf.keras.layers.Conv2D(filters=128, kernel_size=(5,5),padding='same', activation='relu', kernel_initializer='normal'),\n",
        "    tf.keras.layers.Conv2D(filters=256, kernel_size=(5,5),padding='same', activation='relu', kernel_initializer='normal'),\n",
        "    tf.keras.layers.MaxPool2D(pool_size=(2,2),strides=2,padding=\"valid\"),\n",
        "    tf.keras.layers.BatchNormalization(axis=-1),\n",
        "\n",
        "    tf.keras.layers.Flatten(),\n",
        "    tf.keras.layers.Dense(512,activation='relu', kernel_initializer='normal'),\n",
        "    tf.keras.layers.BatchNormalization() ,\n",
        "    tf.keras.layers.Dropout(rate=0.5),\n",
        "\n",
        "    tf.keras.layers.Dense(4,activation='softmax')\n",
        "])"
      ]
    },
    {
      "cell_type": "code",
      "execution_count": null,
      "metadata": {
        "id": "uYcvtJhdfdoA"
      },
      "outputs": [],
      "source": [
        "import tensorflow as tf\n",
        "lr_schedule = tf.keras.optimizers.schedules.ExponentialDecay(\n",
        "    initial_learning_rate=0.01,\n",
        "    decay_steps=10000,\n",
        "    decay_rate=0.9)\n",
        "optimizer3 = tf.keras.optimizers.Adam(learning_rate=lr_schedule)\n",
        "\n",
        "model3.compile(loss='categorical_crossentropy',optimizer=optimizer1,metrics=['accuracy'])\n"
      ]
    },
    {
      "cell_type": "code",
      "execution_count": null,
      "metadata": {
        "id": "nFPKyzcmfdoB"
      },
      "outputs": [],
      "source": [
        "aug = tf.keras.preprocessing.image.ImageDataGenerator(\n",
        "          rescale=1./255,\n",
        "          rotation_range=40,\n",
        "          width_shift_range=0.2,height_shift_range=0.2,\n",
        "          zoom_range=0.3,shear_range=0.2,\n",
        "          horizontal_flip=True,vertical_flip=True,\n",
        "          fill_mode='nearest'\n",
        "          )"
      ]
    },
    {
      "cell_type": "code",
      "execution_count": null,
      "metadata": {
        "id": "r1mG8b3UfdoB"
      },
      "outputs": [],
      "source": [
        "earlystopping = callbacks.EarlyStopping(monitor=\"val_loss\",mode=\"min\",patience=5,restore_best_weights=True)"
      ]
    },
    {
      "cell_type": "code",
      "execution_count": null,
      "metadata": {
        "colab": {
          "base_uri": "https://localhost:8080/"
        },
        "id": "3dzoKxFTfdoC",
        "outputId": "16107b6d-86f2-4441-8744-10cd8ed0ed95"
      },
      "outputs": [],
      "source": [
        "hist3 = model3.fit(aug.flow(X_train, y_train), validation_data=(X_val,y_val), epochs=10, shuffle=True, callbacks=[earlystopping])"
      ]
    },
    {
      "cell_type": "code",
      "execution_count": null,
      "metadata": {
        "id": "dgdwJGfAfdoD"
      },
      "outputs": [],
      "source": [
        "y_pred = model3.predict(X_test)\n",
        "\n",
        "conf=confusion_matrix(y_test,y_pred)"
      ]
    },
    {
      "cell_type": "code",
      "execution_count": null,
      "metadata": {
        "id": "Aj7XmamZfdoD"
      },
      "outputs": [],
      "source": [
        "print(\"\\nConfusion Matrix\")\n",
        "print(conf)\n",
        "\n",
        "tp3=conf[0][0]\n",
        "fp3=conf[0][1]\n",
        "fn3=conf[1][0]\n",
        "tn3=conf[1][1]\n",
        "\n",
        "acc3=(tp3+tn3)/(tp3+fp3+fn3+tn3)\n",
        "prec3=tp3/(tp3+fp3)\n",
        "rec3=tp3/(tp3+fn3)\n",
        "fsc3=(2*tp3/((2*tp3)+fp3+fn3))\n",
        "\n",
        "print(\"\\nAccuracy\")\n",
        "print(acc3)\n",
        "print(\"\\nPrecision\")\n",
        "print(prec3)\n",
        "print(\"\\nRecall\")\n",
        "print(rec3)\n",
        "print(\"\\nF1 Score\")\n",
        "print(fsc3)"
      ]
    }
  ],
  "metadata": {
    "accelerator": "GPU",
    "colab": {
      "provenance": []
    },
    "gpuClass": "standard",
    "kernelspec": {
      "display_name": "Python 3",
      "language": "python",
      "name": "python3"
    },
    "language_info": {
      "codemirror_mode": {
        "name": "ipython",
        "version": 3
      },
      "file_extension": ".py",
      "mimetype": "text/x-python",
      "name": "python",
      "nbconvert_exporter": "python",
      "pygments_lexer": "ipython3",
      "version": "3.7.4"
    }
  },
  "nbformat": 4,
  "nbformat_minor": 0
}
